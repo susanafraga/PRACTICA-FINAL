{
 "cells": [
  {
   "cell_type": "markdown",
   "metadata": {
    "id": "BZHOfP4hO8Vj"
   },
   "source": [
    "# Prueba Intertrimestral\n",
    "\n",
    "**Nombre:**  Susana\n",
    "**Apellidos:**  Fraga Ortiz\n",
    "\n",
    "**Tiempo de la prueba:** 2 horas  \n",
    "**Asignatura:** Desarrollo de Aplicaciones para la Visualización de Datos  \n",
    "**Fecha:** 16 de octubre de 2025  \n",
    "\n",
    "## Instrucciones\n",
    "\n",
    "- Escribe **código limpio y autoexplicativo**.  \n",
    "- Se pueden utilizar **los materiales de clase**.  \n",
    "- Se puede utilizar **internet** para búsqueda de dudas y documentación.  \n",
    "- **No se puede utilizar ningún tipo de LLM** (ChatGPT, Copilot, Gemini, etc.).  \n",
    "- **No se puede utilizar mensajería instantánea**.  \n",
    "- Al finalizar, **sube tu notebook a GitHub** y envía el enlace del fichero en el siguiente formulario:  \n",
    "[https://forms.office.com/e/LFVwu9z6uQ](https://forms.office.com/e/LFVwu9z6uQ)\n",
    "\n",
    "\n",
    "## Dataset “Life Style Data”\n",
    "\n",
    "El dataset contiene información sobre hábitos de vida (alimentación, sueño, ejercicio, consumo de tabaco o alcohol, etc.) y medidas de salud (IMC, presión arterial, etc.) para diferentes individuos.\n",
    "\n",
    "Puedes descargarlo del repositorio de la asignatura y un .txt con la descripción de las variables.\n"
   ]
  },
  {
   "cell_type": "markdown",
   "metadata": {
    "id": "pAyOgtngSm8l"
   },
   "source": [
    "## Inicialización de librerías"
   ]
  },
  {
   "cell_type": "code",
   "execution_count": 39,
   "metadata": {
    "id": "rUSOV34cSmDn"
   },
   "outputs": [],
   "source": [
    "import pandas as pd\n",
    "import numpy as np\n",
    "import matplotlib.pyplot as plt\n",
    "import seaborn as sns\n",
    "from sklearn.model_selection import train_test_split\n",
    "from sklearn.linear_model import LinearRegression\n",
    "from sklearn.ensemble import RandomForestRegressor\n",
    "from sklearn.metrics import mean_squared_error, r2_score\n",
    "from sklearn.linear_model import LogisticRegression\n",
    "from sklearn.metrics import accuracy_score, confusion_matrix, ConfusionMatrixDisplay"
   ]
  },
  {
   "cell_type": "markdown",
   "metadata": {
    "id": "otirxiJrSsEC"
   },
   "source": [
    "# Ejercicio 1 — Programación (2 puntos)\n",
    "\n",
    "a) (0.6 pts) Crea una función imc(weight, height) que devuelva el índice de masa corporal (IMC), redondeado a dos decimales.\n",
    "\n"
   ]
  },
  {
   "cell_type": "code",
   "execution_count": 3,
   "metadata": {
    "id": "3N45WKtkS6-A"
   },
   "outputs": [],
   "source": [
    "def imc(weight, height):\n",
    "    ## weight= en kg\n",
    "    ## height= en metros\n",
    "    return round(weight / (height ** 2), 2)"
   ]
  },
  {
   "cell_type": "code",
   "execution_count": 6,
   "metadata": {},
   "outputs": [
    {
     "name": "stdout",
     "output_type": "stream",
     "text": [
      "El IMC es: 20.76\n"
     ]
    }
   ],
   "source": [
    "## Ejemplo propio\n",
    "resultado = imc(60, 1.70)\n",
    "\n",
    "print(f\"El IMC es: {resultado}\") "
   ]
  },
  {
   "cell_type": "markdown",
   "metadata": {
    "id": "BLBDCknMS7TE"
   },
   "source": [
    "b) (0.6 pts) Crea una función saludable(imcValue) que devuelva \"Saludable\" si el IMC está entre 18.5 y 24.9, \"Bajo peso\" si es menor de 18.5, o \"Sobrepeso\" si es mayor de 24.9."
   ]
  },
  {
   "cell_type": "code",
   "execution_count": 7,
   "metadata": {
    "id": "WDhSuYXLS9Fz"
   },
   "outputs": [],
   "source": [
    "def saludable(imcValue):\n",
    "    if imcValue < 18.5:\n",
    "        return \"Bajo peso\"\n",
    "    elif 18.5 <= imcValue <= 24.9:\n",
    "        return \"Saludable\"\n",
    "    else:\n",
    "        return \"Sobrepeso\""
   ]
  },
  {
   "cell_type": "code",
   "execution_count": 9,
   "metadata": {},
   "outputs": [
    {
     "name": "stdout",
     "output_type": "stream",
     "text": [
      "Esta persona está: Saludable\n"
     ]
    }
   ],
   "source": [
    "## Ejemplo propio\n",
    "resultado1 = saludable(resultado)\n",
    "\n",
    "print(f\"Esta persona está: {resultado1}\") "
   ]
  },
  {
   "cell_type": "markdown",
   "metadata": {
    "id": "KjQkJdhLS9dO"
   },
   "source": [
    "c) (0.6 pts) Genera un DataFrame llamado imcData que contenga al menos 10 registros con las siguientes columnas:\n",
    "\n",
    "\n",
    "*   peso (en kilogramos)\n",
    "\n",
    "*   altura (en metros)\n",
    "\n",
    "*   imc (calculado usando la función imc(weight, height) creada anteriormente)\n",
    "\n",
    "Puedes generar los datos de peso y altura manualmente, mediante listas, o de forma aleatoria utilizando numpy (np.random.uniform o similar).\n",
    "\n",
    "Añade una cuarta columna llamada categoria, cuyos valores provengan de la función saludable(imcValue).\n",
    "\n",
    "Muestra las primeras filas del DataFrame resultante y comprueba que los tipos de datos son correctos."
   ]
  },
  {
   "cell_type": "code",
   "execution_count": 11,
   "metadata": {
    "id": "sN09MzT_TGWv"
   },
   "outputs": [],
   "source": [
    "# Generación de pesos y alturas \n",
    "np.random.seed(42) \n",
    "pesos = np.random.uniform(45, 95, 10).round(1)     # pesos entre 45 y 95 kg\n",
    "alturas = np.random.uniform(1.5, 1.9, 10).round(2) # alturas entre 1.50 y 1.90 m\n",
    "\n",
    "# Creación del DataFrame\n",
    "imcData = pd.DataFrame({\"peso\": pesos,\"altura\": alturas})\n",
    "\n",
    "# Calcular el IMC y la categoría (cuarta columna)\n",
    "imcData[\"imc\"] = imcData.apply(lambda row: imc(row[\"peso\"], row[\"altura\"]), axis=1)\n",
    "imcData[\"categoria\"] = imcData[\"imc\"].apply(saludable)"
   ]
  },
  {
   "cell_type": "code",
   "execution_count": 12,
   "metadata": {},
   "outputs": [
    {
     "name": "stdout",
     "output_type": "stream",
     "text": [
      "(10, 4)\n",
      "   peso  altura    imc  categoria\n",
      "0  63.7    1.51  27.94  Sobrepeso\n",
      "1  92.5    1.89  25.90  Sobrepeso\n",
      "2  81.6    1.83  24.37  Saludable\n",
      "3  74.9    1.58  30.00  Sobrepeso\n",
      "4  52.8    1.57  21.42  Saludable\n",
      "peso         0\n",
      "altura       0\n",
      "imc          0\n",
      "categoria    0\n",
      "dtype: int64\n",
      "peso         float64\n",
      "altura       float64\n",
      "imc          float64\n",
      "categoria     object\n",
      "dtype: object\n",
      "             peso     altura        imc  categoria\n",
      "count   10.000000  10.000000  10.000000         10\n",
      "unique        NaN        NaN        NaN          3\n",
      "top           NaN        NaN        NaN  Sobrepeso\n",
      "freq          NaN        NaN        NaN          6\n",
      "mean    71.000000   1.657000  25.707000        NaN\n",
      "std     15.789096   0.121386   4.263825        NaN\n",
      "min     47.900000   1.510000  18.250000        NaN\n",
      "25%     55.525000   1.572500  22.157500        NaN\n",
      "50%     75.000000   1.620000  26.415000        NaN\n",
      "75%     81.300000   1.700000  29.485000        NaN\n",
      "max     92.500000   1.890000  30.640000        NaN\n"
     ]
    }
   ],
   "source": [
    "def basicStats(df):\n",
    "    print(df.shape)\n",
    "    print(df.head())\n",
    "    print(df.isna().sum())\n",
    "    print(df.dtypes)\n",
    "    print(df.describe(include='all'))\n",
    "\n",
    "basicStats(imcData)"
   ]
  },
  {
   "cell_type": "markdown",
   "metadata": {
    "id": "uqaLQ7v3TGqI"
   },
   "source": [
    "d) (0.2 pts) ¿Cómo podrías integrar ambas funciones dentro de una clase llamada HealthTools que calcule el IMC y clasifique automáticamente a partir de listas de pesos y alturas?"
   ]
  },
  {
   "cell_type": "code",
   "execution_count": 65,
   "metadata": {
    "id": "ac1ReJOvTuS9"
   },
   "outputs": [],
   "source": [
    "class HealthTools:\n",
    "    def __init__(self, weights, heights):\n",
    "        self.weights = weights\n",
    "        self.heights = heights\n",
    "\n",
    "    def imc(self, weight, height):\n",
    "        return round(weight / (height ** 2), 2)\n",
    "    \n",
    "    def saludable(self, imcValue):\n",
    "        if imcValue < 18.5:\n",
    "            return \"Bajo peso\"\n",
    "        elif 18.5 <= imcValue <= 24.9:\n",
    "            return \"Saludable\"\n",
    "        else:\n",
    "            return \"Sobrepeso\"\n",
    "\n",
    "    def generar_dataframe(self):\n",
    "        xxxxx\n",
    "        return df\n"
   ]
  },
  {
   "cell_type": "markdown",
   "metadata": {
    "id": "_KNWF6NGTxLR"
   },
   "source": [
    "## Ejercicio 2 — Exploración y visualización (3 puntos)\n",
    "\n",
    "a) (0.75 pts) Carga el dataset desde el fichero CSV y guárdalo en un DataFrame llamado lifeStyleData. Muestra las 5 primeras filas, el número de filas y columnas."
   ]
  },
  {
   "cell_type": "code",
   "execution_count": 16,
   "metadata": {
    "id": "l907uB6pT4qS",
    "scrolled": true
   },
   "outputs": [
    {
     "data": {
      "text/html": [
       "<div>\n",
       "<style scoped>\n",
       "    .dataframe tbody tr th:only-of-type {\n",
       "        vertical-align: middle;\n",
       "    }\n",
       "\n",
       "    .dataframe tbody tr th {\n",
       "        vertical-align: top;\n",
       "    }\n",
       "\n",
       "    .dataframe thead th {\n",
       "        text-align: right;\n",
       "    }\n",
       "</style>\n",
       "<table border=\"1\" class=\"dataframe\">\n",
       "  <thead>\n",
       "    <tr style=\"text-align: right;\">\n",
       "      <th></th>\n",
       "      <th>Age</th>\n",
       "      <th>Gender</th>\n",
       "      <th>Weight (kg)</th>\n",
       "      <th>Height (m)</th>\n",
       "      <th>Max_BPM</th>\n",
       "      <th>Avg_BPM</th>\n",
       "      <th>Resting_BPM</th>\n",
       "      <th>Session_Duration (hours)</th>\n",
       "      <th>Calories_Burned</th>\n",
       "      <th>Workout_Type</th>\n",
       "      <th>...</th>\n",
       "      <th>cal_from_macros</th>\n",
       "      <th>pct_carbs</th>\n",
       "      <th>protein_per_kg</th>\n",
       "      <th>pct_HRR</th>\n",
       "      <th>pct_maxHR</th>\n",
       "      <th>cal_balance</th>\n",
       "      <th>lean_mass_kg</th>\n",
       "      <th>expected_burn</th>\n",
       "      <th>Burns Calories (per 30 min)_bc</th>\n",
       "      <th>Burns_Calories_Bin</th>\n",
       "    </tr>\n",
       "  </thead>\n",
       "  <tbody>\n",
       "    <tr>\n",
       "      <th>0</th>\n",
       "      <td>34.91</td>\n",
       "      <td>Male</td>\n",
       "      <td>65.27</td>\n",
       "      <td>1.62</td>\n",
       "      <td>188.58</td>\n",
       "      <td>157.65</td>\n",
       "      <td>69.05</td>\n",
       "      <td>1.00</td>\n",
       "      <td>1080.90</td>\n",
       "      <td>Strength</td>\n",
       "      <td>...</td>\n",
       "      <td>2139.59</td>\n",
       "      <td>0.500432</td>\n",
       "      <td>1.624789</td>\n",
       "      <td>0.741237</td>\n",
       "      <td>0.835985</td>\n",
       "      <td>725.10</td>\n",
       "      <td>47.777394</td>\n",
       "      <td>685.1600</td>\n",
       "      <td>7.260425e+19</td>\n",
       "      <td>Medium</td>\n",
       "    </tr>\n",
       "    <tr>\n",
       "      <th>1</th>\n",
       "      <td>23.37</td>\n",
       "      <td>Female</td>\n",
       "      <td>56.41</td>\n",
       "      <td>1.55</td>\n",
       "      <td>179.43</td>\n",
       "      <td>131.75</td>\n",
       "      <td>73.18</td>\n",
       "      <td>1.37</td>\n",
       "      <td>1809.91</td>\n",
       "      <td>HIIT</td>\n",
       "      <td>...</td>\n",
       "      <td>1711.65</td>\n",
       "      <td>0.500850</td>\n",
       "      <td>1.514093</td>\n",
       "      <td>0.551247</td>\n",
       "      <td>0.734270</td>\n",
       "      <td>-232.91</td>\n",
       "      <td>40.809803</td>\n",
       "      <td>978.6184</td>\n",
       "      <td>1.020506e+20</td>\n",
       "      <td>High</td>\n",
       "    </tr>\n",
       "    <tr>\n",
       "      <th>2</th>\n",
       "      <td>33.20</td>\n",
       "      <td>Female</td>\n",
       "      <td>58.98</td>\n",
       "      <td>1.67</td>\n",
       "      <td>175.04</td>\n",
       "      <td>123.95</td>\n",
       "      <td>54.96</td>\n",
       "      <td>0.91</td>\n",
       "      <td>802.26</td>\n",
       "      <td>Cardio</td>\n",
       "      <td>...</td>\n",
       "      <td>1965.92</td>\n",
       "      <td>0.500610</td>\n",
       "      <td>1.663445</td>\n",
       "      <td>0.574534</td>\n",
       "      <td>0.708124</td>\n",
       "      <td>805.74</td>\n",
       "      <td>44.635580</td>\n",
       "      <td>654.5266</td>\n",
       "      <td>1.079607e+20</td>\n",
       "      <td>High</td>\n",
       "    </tr>\n",
       "    <tr>\n",
       "      <th>3</th>\n",
       "      <td>38.69</td>\n",
       "      <td>Female</td>\n",
       "      <td>93.78</td>\n",
       "      <td>1.70</td>\n",
       "      <td>191.21</td>\n",
       "      <td>155.10</td>\n",
       "      <td>50.07</td>\n",
       "      <td>1.10</td>\n",
       "      <td>1450.79</td>\n",
       "      <td>HIIT</td>\n",
       "      <td>...</td>\n",
       "      <td>1627.28</td>\n",
       "      <td>0.499533</td>\n",
       "      <td>0.862017</td>\n",
       "      <td>0.744155</td>\n",
       "      <td>0.811150</td>\n",
       "      <td>1206.21</td>\n",
       "      <td>63.007432</td>\n",
       "      <td>773.6300</td>\n",
       "      <td>8.987921e+19</td>\n",
       "      <td>High</td>\n",
       "    </tr>\n",
       "    <tr>\n",
       "      <th>4</th>\n",
       "      <td>45.09</td>\n",
       "      <td>Male</td>\n",
       "      <td>52.42</td>\n",
       "      <td>1.88</td>\n",
       "      <td>193.58</td>\n",
       "      <td>152.88</td>\n",
       "      <td>70.84</td>\n",
       "      <td>1.08</td>\n",
       "      <td>1166.40</td>\n",
       "      <td>Strength</td>\n",
       "      <td>...</td>\n",
       "      <td>2659.23</td>\n",
       "      <td>0.500581</td>\n",
       "      <td>2.538153</td>\n",
       "      <td>0.668405</td>\n",
       "      <td>0.789751</td>\n",
       "      <td>303.60</td>\n",
       "      <td>43.347504</td>\n",
       "      <td>711.4176</td>\n",
       "      <td>5.264685e+19</td>\n",
       "      <td>Low</td>\n",
       "    </tr>\n",
       "  </tbody>\n",
       "</table>\n",
       "<p>5 rows × 54 columns</p>\n",
       "</div>"
      ],
      "text/plain": [
       "     Age  Gender  Weight (kg)  Height (m)  Max_BPM  Avg_BPM  Resting_BPM  \\\n",
       "0  34.91    Male        65.27        1.62   188.58   157.65        69.05   \n",
       "1  23.37  Female        56.41        1.55   179.43   131.75        73.18   \n",
       "2  33.20  Female        58.98        1.67   175.04   123.95        54.96   \n",
       "3  38.69  Female        93.78        1.70   191.21   155.10        50.07   \n",
       "4  45.09    Male        52.42        1.88   193.58   152.88        70.84   \n",
       "\n",
       "   Session_Duration (hours)  Calories_Burned Workout_Type  ...  \\\n",
       "0                      1.00          1080.90     Strength  ...   \n",
       "1                      1.37          1809.91         HIIT  ...   \n",
       "2                      0.91           802.26       Cardio  ...   \n",
       "3                      1.10          1450.79         HIIT  ...   \n",
       "4                      1.08          1166.40     Strength  ...   \n",
       "\n",
       "   cal_from_macros  pct_carbs  protein_per_kg   pct_HRR  pct_maxHR  \\\n",
       "0          2139.59   0.500432        1.624789  0.741237   0.835985   \n",
       "1          1711.65   0.500850        1.514093  0.551247   0.734270   \n",
       "2          1965.92   0.500610        1.663445  0.574534   0.708124   \n",
       "3          1627.28   0.499533        0.862017  0.744155   0.811150   \n",
       "4          2659.23   0.500581        2.538153  0.668405   0.789751   \n",
       "\n",
       "   cal_balance  lean_mass_kg  expected_burn  Burns Calories (per 30 min)_bc  \\\n",
       "0       725.10     47.777394       685.1600                    7.260425e+19   \n",
       "1      -232.91     40.809803       978.6184                    1.020506e+20   \n",
       "2       805.74     44.635580       654.5266                    1.079607e+20   \n",
       "3      1206.21     63.007432       773.6300                    8.987921e+19   \n",
       "4       303.60     43.347504       711.4176                    5.264685e+19   \n",
       "\n",
       "   Burns_Calories_Bin  \n",
       "0              Medium  \n",
       "1                High  \n",
       "2                High  \n",
       "3                High  \n",
       "4                 Low  \n",
       "\n",
       "[5 rows x 54 columns]"
      ]
     },
     "metadata": {},
     "output_type": "display_data"
    },
    {
     "name": "stdout",
     "output_type": "stream",
     "text": [
      "\n",
      "El dataset tiene 20000 filas y 54 columnas.\n"
     ]
    }
   ],
   "source": [
    "lifeStyleData = pd.read_csv(\"Final_data.csv\")\n",
    "\n",
    "# Mostramos las 5 primeras filas\n",
    "display(lifeStyleData.head())\n",
    "\n",
    "# Número de filas y columnas\n",
    "print(f\"\\nEl dataset tiene {lifeStyleData.shape[0]} filas y {lifeStyleData.shape[1]} columnas.\")\n"
   ]
  },
  {
   "cell_type": "markdown",
   "metadata": {
    "id": "JlpQNR-CT49v"
   },
   "source": [
    "b) (0.75 pts) Crea una función describeData(dataFrame) que devuelva para cada columna: tipo de dato, número de valores nulos y porcentaje de nulos."
   ]
  },
  {
   "cell_type": "code",
   "execution_count": 20,
   "metadata": {
    "id": "oXcuxp6mT8iA"
   },
   "outputs": [],
   "source": [
    "def describeData(dataFrame):\n",
    "    valores = pd.DataFrame({\n",
    "        \"tipo_de_dato\": dataFrame.dtypes,\n",
    "        \"num_nulos\": dataFrame.isnull().sum(),\n",
    "        \"porcentaje_nulos\": (dataFrame.isnull().mean() * 100)\n",
    "    })\n",
    "    return valores"
   ]
  },
  {
   "cell_type": "markdown",
   "metadata": {
    "id": "mHjSdK4oT7Yp"
   },
   "source": [
    "c) (0.75 pts) Usa describeData(lifeStyleData) y comenta brevemente (2–3 líneas) qué variables parecen tener más valores faltantes."
   ]
  },
  {
   "cell_type": "code",
   "execution_count": 22,
   "metadata": {},
   "outputs": [
    {
     "data": {
      "text/html": [
       "<div>\n",
       "<style scoped>\n",
       "    .dataframe tbody tr th:only-of-type {\n",
       "        vertical-align: middle;\n",
       "    }\n",
       "\n",
       "    .dataframe tbody tr th {\n",
       "        vertical-align: top;\n",
       "    }\n",
       "\n",
       "    .dataframe thead th {\n",
       "        text-align: right;\n",
       "    }\n",
       "</style>\n",
       "<table border=\"1\" class=\"dataframe\">\n",
       "  <thead>\n",
       "    <tr style=\"text-align: right;\">\n",
       "      <th></th>\n",
       "      <th>tipo_de_dato</th>\n",
       "      <th>num_nulos</th>\n",
       "      <th>porcentaje_nulos</th>\n",
       "    </tr>\n",
       "  </thead>\n",
       "  <tbody>\n",
       "    <tr>\n",
       "      <th>Age</th>\n",
       "      <td>float64</td>\n",
       "      <td>0</td>\n",
       "      <td>0.000</td>\n",
       "    </tr>\n",
       "    <tr>\n",
       "      <th>Gender</th>\n",
       "      <td>object</td>\n",
       "      <td>0</td>\n",
       "      <td>0.000</td>\n",
       "    </tr>\n",
       "    <tr>\n",
       "      <th>Weight (kg)</th>\n",
       "      <td>float64</td>\n",
       "      <td>0</td>\n",
       "      <td>0.000</td>\n",
       "    </tr>\n",
       "    <tr>\n",
       "      <th>Height (m)</th>\n",
       "      <td>float64</td>\n",
       "      <td>0</td>\n",
       "      <td>0.000</td>\n",
       "    </tr>\n",
       "    <tr>\n",
       "      <th>Max_BPM</th>\n",
       "      <td>float64</td>\n",
       "      <td>1</td>\n",
       "      <td>0.005</td>\n",
       "    </tr>\n",
       "    <tr>\n",
       "      <th>Avg_BPM</th>\n",
       "      <td>float64</td>\n",
       "      <td>1</td>\n",
       "      <td>0.005</td>\n",
       "    </tr>\n",
       "    <tr>\n",
       "      <th>Resting_BPM</th>\n",
       "      <td>float64</td>\n",
       "      <td>0</td>\n",
       "      <td>0.000</td>\n",
       "    </tr>\n",
       "    <tr>\n",
       "      <th>Session_Duration (hours)</th>\n",
       "      <td>float64</td>\n",
       "      <td>0</td>\n",
       "      <td>0.000</td>\n",
       "    </tr>\n",
       "    <tr>\n",
       "      <th>Calories_Burned</th>\n",
       "      <td>float64</td>\n",
       "      <td>0</td>\n",
       "      <td>0.000</td>\n",
       "    </tr>\n",
       "    <tr>\n",
       "      <th>Workout_Type</th>\n",
       "      <td>object</td>\n",
       "      <td>0</td>\n",
       "      <td>0.000</td>\n",
       "    </tr>\n",
       "    <tr>\n",
       "      <th>Fat_Percentage</th>\n",
       "      <td>float64</td>\n",
       "      <td>0</td>\n",
       "      <td>0.000</td>\n",
       "    </tr>\n",
       "    <tr>\n",
       "      <th>Water_Intake (liters)</th>\n",
       "      <td>float64</td>\n",
       "      <td>0</td>\n",
       "      <td>0.000</td>\n",
       "    </tr>\n",
       "    <tr>\n",
       "      <th>Workout_Frequency (days/week)</th>\n",
       "      <td>float64</td>\n",
       "      <td>0</td>\n",
       "      <td>0.000</td>\n",
       "    </tr>\n",
       "    <tr>\n",
       "      <th>Experience_Level</th>\n",
       "      <td>float64</td>\n",
       "      <td>0</td>\n",
       "      <td>0.000</td>\n",
       "    </tr>\n",
       "    <tr>\n",
       "      <th>BMI</th>\n",
       "      <td>float64</td>\n",
       "      <td>0</td>\n",
       "      <td>0.000</td>\n",
       "    </tr>\n",
       "    <tr>\n",
       "      <th>Daily meals frequency</th>\n",
       "      <td>float64</td>\n",
       "      <td>0</td>\n",
       "      <td>0.000</td>\n",
       "    </tr>\n",
       "    <tr>\n",
       "      <th>Physical exercise</th>\n",
       "      <td>float64</td>\n",
       "      <td>0</td>\n",
       "      <td>0.000</td>\n",
       "    </tr>\n",
       "    <tr>\n",
       "      <th>Carbs</th>\n",
       "      <td>float64</td>\n",
       "      <td>0</td>\n",
       "      <td>0.000</td>\n",
       "    </tr>\n",
       "    <tr>\n",
       "      <th>Proteins</th>\n",
       "      <td>float64</td>\n",
       "      <td>0</td>\n",
       "      <td>0.000</td>\n",
       "    </tr>\n",
       "    <tr>\n",
       "      <th>Fats</th>\n",
       "      <td>float64</td>\n",
       "      <td>0</td>\n",
       "      <td>0.000</td>\n",
       "    </tr>\n",
       "    <tr>\n",
       "      <th>Calories</th>\n",
       "      <td>float64</td>\n",
       "      <td>0</td>\n",
       "      <td>0.000</td>\n",
       "    </tr>\n",
       "    <tr>\n",
       "      <th>meal_name</th>\n",
       "      <td>object</td>\n",
       "      <td>0</td>\n",
       "      <td>0.000</td>\n",
       "    </tr>\n",
       "    <tr>\n",
       "      <th>meal_type</th>\n",
       "      <td>object</td>\n",
       "      <td>0</td>\n",
       "      <td>0.000</td>\n",
       "    </tr>\n",
       "    <tr>\n",
       "      <th>diet_type</th>\n",
       "      <td>object</td>\n",
       "      <td>0</td>\n",
       "      <td>0.000</td>\n",
       "    </tr>\n",
       "    <tr>\n",
       "      <th>sugar_g</th>\n",
       "      <td>float64</td>\n",
       "      <td>0</td>\n",
       "      <td>0.000</td>\n",
       "    </tr>\n",
       "    <tr>\n",
       "      <th>sodium_mg</th>\n",
       "      <td>float64</td>\n",
       "      <td>0</td>\n",
       "      <td>0.000</td>\n",
       "    </tr>\n",
       "    <tr>\n",
       "      <th>cholesterol_mg</th>\n",
       "      <td>float64</td>\n",
       "      <td>1</td>\n",
       "      <td>0.005</td>\n",
       "    </tr>\n",
       "    <tr>\n",
       "      <th>serving_size_g</th>\n",
       "      <td>float64</td>\n",
       "      <td>0</td>\n",
       "      <td>0.000</td>\n",
       "    </tr>\n",
       "    <tr>\n",
       "      <th>cooking_method</th>\n",
       "      <td>object</td>\n",
       "      <td>0</td>\n",
       "      <td>0.000</td>\n",
       "    </tr>\n",
       "    <tr>\n",
       "      <th>prep_time_min</th>\n",
       "      <td>float64</td>\n",
       "      <td>0</td>\n",
       "      <td>0.000</td>\n",
       "    </tr>\n",
       "    <tr>\n",
       "      <th>cook_time_min</th>\n",
       "      <td>float64</td>\n",
       "      <td>0</td>\n",
       "      <td>0.000</td>\n",
       "    </tr>\n",
       "    <tr>\n",
       "      <th>rating</th>\n",
       "      <td>float64</td>\n",
       "      <td>0</td>\n",
       "      <td>0.000</td>\n",
       "    </tr>\n",
       "    <tr>\n",
       "      <th>Name of Exercise</th>\n",
       "      <td>object</td>\n",
       "      <td>0</td>\n",
       "      <td>0.000</td>\n",
       "    </tr>\n",
       "    <tr>\n",
       "      <th>Sets</th>\n",
       "      <td>float64</td>\n",
       "      <td>0</td>\n",
       "      <td>0.000</td>\n",
       "    </tr>\n",
       "    <tr>\n",
       "      <th>Reps</th>\n",
       "      <td>float64</td>\n",
       "      <td>0</td>\n",
       "      <td>0.000</td>\n",
       "    </tr>\n",
       "    <tr>\n",
       "      <th>Benefit</th>\n",
       "      <td>object</td>\n",
       "      <td>0</td>\n",
       "      <td>0.000</td>\n",
       "    </tr>\n",
       "    <tr>\n",
       "      <th>Burns Calories (per 30 min)</th>\n",
       "      <td>float64</td>\n",
       "      <td>0</td>\n",
       "      <td>0.000</td>\n",
       "    </tr>\n",
       "    <tr>\n",
       "      <th>Target Muscle Group</th>\n",
       "      <td>object</td>\n",
       "      <td>0</td>\n",
       "      <td>0.000</td>\n",
       "    </tr>\n",
       "    <tr>\n",
       "      <th>Equipment Needed</th>\n",
       "      <td>object</td>\n",
       "      <td>0</td>\n",
       "      <td>0.000</td>\n",
       "    </tr>\n",
       "    <tr>\n",
       "      <th>Difficulty Level</th>\n",
       "      <td>object</td>\n",
       "      <td>0</td>\n",
       "      <td>0.000</td>\n",
       "    </tr>\n",
       "    <tr>\n",
       "      <th>Body Part</th>\n",
       "      <td>object</td>\n",
       "      <td>0</td>\n",
       "      <td>0.000</td>\n",
       "    </tr>\n",
       "    <tr>\n",
       "      <th>Type of Muscle</th>\n",
       "      <td>object</td>\n",
       "      <td>0</td>\n",
       "      <td>0.000</td>\n",
       "    </tr>\n",
       "    <tr>\n",
       "      <th>Workout</th>\n",
       "      <td>object</td>\n",
       "      <td>0</td>\n",
       "      <td>0.000</td>\n",
       "    </tr>\n",
       "    <tr>\n",
       "      <th>BMI_calc</th>\n",
       "      <td>float64</td>\n",
       "      <td>0</td>\n",
       "      <td>0.000</td>\n",
       "    </tr>\n",
       "    <tr>\n",
       "      <th>cal_from_macros</th>\n",
       "      <td>float64</td>\n",
       "      <td>0</td>\n",
       "      <td>0.000</td>\n",
       "    </tr>\n",
       "    <tr>\n",
       "      <th>pct_carbs</th>\n",
       "      <td>float64</td>\n",
       "      <td>0</td>\n",
       "      <td>0.000</td>\n",
       "    </tr>\n",
       "    <tr>\n",
       "      <th>protein_per_kg</th>\n",
       "      <td>float64</td>\n",
       "      <td>0</td>\n",
       "      <td>0.000</td>\n",
       "    </tr>\n",
       "    <tr>\n",
       "      <th>pct_HRR</th>\n",
       "      <td>float64</td>\n",
       "      <td>0</td>\n",
       "      <td>0.000</td>\n",
       "    </tr>\n",
       "    <tr>\n",
       "      <th>pct_maxHR</th>\n",
       "      <td>float64</td>\n",
       "      <td>0</td>\n",
       "      <td>0.000</td>\n",
       "    </tr>\n",
       "    <tr>\n",
       "      <th>cal_balance</th>\n",
       "      <td>float64</td>\n",
       "      <td>0</td>\n",
       "      <td>0.000</td>\n",
       "    </tr>\n",
       "    <tr>\n",
       "      <th>lean_mass_kg</th>\n",
       "      <td>float64</td>\n",
       "      <td>0</td>\n",
       "      <td>0.000</td>\n",
       "    </tr>\n",
       "    <tr>\n",
       "      <th>expected_burn</th>\n",
       "      <td>float64</td>\n",
       "      <td>0</td>\n",
       "      <td>0.000</td>\n",
       "    </tr>\n",
       "    <tr>\n",
       "      <th>Burns Calories (per 30 min)_bc</th>\n",
       "      <td>float64</td>\n",
       "      <td>0</td>\n",
       "      <td>0.000</td>\n",
       "    </tr>\n",
       "    <tr>\n",
       "      <th>Burns_Calories_Bin</th>\n",
       "      <td>object</td>\n",
       "      <td>0</td>\n",
       "      <td>0.000</td>\n",
       "    </tr>\n",
       "  </tbody>\n",
       "</table>\n",
       "</div>"
      ],
      "text/plain": [
       "                               tipo_de_dato  num_nulos  porcentaje_nulos\n",
       "Age                                 float64          0             0.000\n",
       "Gender                               object          0             0.000\n",
       "Weight (kg)                         float64          0             0.000\n",
       "Height (m)                          float64          0             0.000\n",
       "Max_BPM                             float64          1             0.005\n",
       "Avg_BPM                             float64          1             0.005\n",
       "Resting_BPM                         float64          0             0.000\n",
       "Session_Duration (hours)            float64          0             0.000\n",
       "Calories_Burned                     float64          0             0.000\n",
       "Workout_Type                         object          0             0.000\n",
       "Fat_Percentage                      float64          0             0.000\n",
       "Water_Intake (liters)               float64          0             0.000\n",
       "Workout_Frequency (days/week)       float64          0             0.000\n",
       "Experience_Level                    float64          0             0.000\n",
       "BMI                                 float64          0             0.000\n",
       "Daily meals frequency               float64          0             0.000\n",
       "Physical exercise                   float64          0             0.000\n",
       "Carbs                               float64          0             0.000\n",
       "Proteins                            float64          0             0.000\n",
       "Fats                                float64          0             0.000\n",
       "Calories                            float64          0             0.000\n",
       "meal_name                            object          0             0.000\n",
       "meal_type                            object          0             0.000\n",
       "diet_type                            object          0             0.000\n",
       "sugar_g                             float64          0             0.000\n",
       "sodium_mg                           float64          0             0.000\n",
       "cholesterol_mg                      float64          1             0.005\n",
       "serving_size_g                      float64          0             0.000\n",
       "cooking_method                       object          0             0.000\n",
       "prep_time_min                       float64          0             0.000\n",
       "cook_time_min                       float64          0             0.000\n",
       "rating                              float64          0             0.000\n",
       "Name of Exercise                     object          0             0.000\n",
       "Sets                                float64          0             0.000\n",
       "Reps                                float64          0             0.000\n",
       "Benefit                              object          0             0.000\n",
       "Burns Calories (per 30 min)         float64          0             0.000\n",
       "Target Muscle Group                  object          0             0.000\n",
       "Equipment Needed                     object          0             0.000\n",
       "Difficulty Level                     object          0             0.000\n",
       "Body Part                            object          0             0.000\n",
       "Type of Muscle                       object          0             0.000\n",
       "Workout                              object          0             0.000\n",
       "BMI_calc                            float64          0             0.000\n",
       "cal_from_macros                     float64          0             0.000\n",
       "pct_carbs                           float64          0             0.000\n",
       "protein_per_kg                      float64          0             0.000\n",
       "pct_HRR                             float64          0             0.000\n",
       "pct_maxHR                           float64          0             0.000\n",
       "cal_balance                         float64          0             0.000\n",
       "lean_mass_kg                        float64          0             0.000\n",
       "expected_burn                       float64          0             0.000\n",
       "Burns Calories (per 30 min)_bc      float64          0             0.000\n",
       "Burns_Calories_Bin                   object          0             0.000"
      ]
     },
     "metadata": {},
     "output_type": "display_data"
    }
   ],
   "source": [
    "resumen_dataset = describeData(lifeStyleData)\n",
    "display(resumen_dataset)"
   ]
  },
  {
   "cell_type": "markdown",
   "metadata": {
    "id": "bgMOXwrbT-Du"
   },
   "source": [
    "Las variables que tienen más valores faltantes son cholesterol_mg, avg_bpm, max_bpm. Representan un 0,005 % sobre las variables de cada una de las columnas. "
   ]
  },
  {
   "cell_type": "markdown",
   "metadata": {
    "id": "qlYW9h-qT-VT"
   },
   "source": [
    "d) (0.75 pts) Realiza un gráfico que muestre las correlaciones entre variables numéricas. ¿Hay alguna correlación fuerte o inesperada?"
   ]
  },
  {
   "cell_type": "code",
   "execution_count": 26,
   "metadata": {
    "id": "buQgpNSrUCS3"
   },
   "outputs": [
    {
     "data": {
      "image/png": "[encoded data removed]",
      "text/plain": [
       "<Figure size 720x432 with 2 Axes>"
      ]
     },
     "metadata": {
      "needs_background": "light"
     },
     "output_type": "display_data"
    }
   ],
   "source": [
    "# Limpiamos el dataset para quedarnos únicamente con las filas que no tengan NAs\n",
    "lifeStyleData = lifeStyleData.dropna()\n",
    "\n",
    "# Selección de solo las columnas numéricas\n",
    "numeric_cols = lifeStyleData.select_dtypes(include=[\"float64\"])\n",
    "\n",
    "# Calculamos la matriz de correlación\n",
    "corr = numeric_cols.corr()\n",
    "\n",
    "# Mapa de calor\n",
    "plt.figure(figsize=(10, 6))\n",
    "sns.heatmap(corr, cmap=\"coolwarm\", fmt=\".2f\", square=True)\n",
    "plt.title(\"Mapa de calor de correlaciones entre variables numéricas\", fontsize=12)\n",
    "plt.show()\n"
   ]
  },
  {
   "cell_type": "markdown",
   "metadata": {},
   "source": [
    "Correlación alta con las siguientes variables (positivas, muy rojas): TO DO\n",
    "Correlación alta con las siguientes variables (negativas, muy azules): TO DO\n",
    "\n",
    "No hay ninguna que sea especialmente inesperada ya que casi todas tiene bastante sentido que estén muy relacionadas entre sí (por ejemplo, las proteínas y calorías es normal que tengan correlación muy positiva)"
   ]
  },
  {
   "cell_type": "markdown",
   "metadata": {
    "id": "xfw0EHuoUCk_"
   },
   "source": [
    "## Ejercicio 3 — Regresión básica (2 puntos)\n",
    "\n",
    "Queremos predecir una variable de salud continua, por ejemplo bmi.\n",
    "\n",
    "a) (0.25 pts) Define targetVar = \"bmi\" y selecciona 2–3 variables predictoras (por ejemplo sleepHours, activityLevel, calories). Guarda las columnas predictoras en X y la variable objetivo en y."
   ]
  },
  {
   "cell_type": "code",
   "execution_count": 29,
   "metadata": {
    "id": "3lGCNguAUGZe"
   },
   "outputs": [
    {
     "name": "stdout",
     "output_type": "stream",
     "text": [
      "Variables predictoras (X):\n"
     ]
    },
    {
     "data": {
      "text/html": [
       "<div>\n",
       "<style scoped>\n",
       "    .dataframe tbody tr th:only-of-type {\n",
       "        vertical-align: middle;\n",
       "    }\n",
       "\n",
       "    .dataframe tbody tr th {\n",
       "        vertical-align: top;\n",
       "    }\n",
       "\n",
       "    .dataframe thead th {\n",
       "        text-align: right;\n",
       "    }\n",
       "</style>\n",
       "<table border=\"1\" class=\"dataframe\">\n",
       "  <thead>\n",
       "    <tr style=\"text-align: right;\">\n",
       "      <th></th>\n",
       "      <th>Calories</th>\n",
       "      <th>Fat_Percentage</th>\n",
       "      <th>protein_per_kg</th>\n",
       "    </tr>\n",
       "  </thead>\n",
       "  <tbody>\n",
       "    <tr>\n",
       "      <th>0</th>\n",
       "      <td>1806.0</td>\n",
       "      <td>26.800377</td>\n",
       "      <td>1.624789</td>\n",
       "    </tr>\n",
       "    <tr>\n",
       "      <th>1</th>\n",
       "      <td>1577.0</td>\n",
       "      <td>27.655021</td>\n",
       "      <td>1.514093</td>\n",
       "    </tr>\n",
       "    <tr>\n",
       "      <th>2</th>\n",
       "      <td>1608.0</td>\n",
       "      <td>24.320821</td>\n",
       "      <td>1.663445</td>\n",
       "    </tr>\n",
       "    <tr>\n",
       "      <th>3</th>\n",
       "      <td>2657.0</td>\n",
       "      <td>32.813572</td>\n",
       "      <td>0.862017</td>\n",
       "    </tr>\n",
       "    <tr>\n",
       "      <th>4</th>\n",
       "      <td>1470.0</td>\n",
       "      <td>17.307319</td>\n",
       "      <td>2.538153</td>\n",
       "    </tr>\n",
       "  </tbody>\n",
       "</table>\n",
       "</div>"
      ],
      "text/plain": [
       "   Calories  Fat_Percentage  protein_per_kg\n",
       "0    1806.0       26.800377        1.624789\n",
       "1    1577.0       27.655021        1.514093\n",
       "2    1608.0       24.320821        1.663445\n",
       "3    2657.0       32.813572        0.862017\n",
       "4    1470.0       17.307319        2.538153"
      ]
     },
     "metadata": {},
     "output_type": "display_data"
    },
    {
     "name": "stdout",
     "output_type": "stream",
     "text": [
      "\n",
      "Variable objetivo (y):\n"
     ]
    },
    {
     "data": {
      "text/plain": [
       "0    24.87\n",
       "1    23.48\n",
       "2    21.15\n",
       "3    32.45\n",
       "4    14.83\n",
       "Name: BMI, dtype: float64"
      ]
     },
     "metadata": {},
     "output_type": "display_data"
    }
   ],
   "source": [
    "## AQUELLAS QUE TENGAN MAYOR CORRELACIÓN CON BMI QUE NO SEAN NI PESO NI ALTURA\n",
    "\n",
    "# Variable objetivo\n",
    "targetVar = \"BMI\"\n",
    "\n",
    "# Variables predictoras: aquellas que tienen una mayor correlación con el BMI (ya sea positiva o negativa)\n",
    "predictors = [\"Calories\", \"Fat_Percentage\", \"protein_per_kg\"]\n",
    "\n",
    "# Seleccionamos columnas correspondientes\n",
    "X = lifeStyleData[predictors]\n",
    "y = lifeStyleData[targetVar]\n",
    "\n",
    "# Variables\n",
    "print(\"Variables predictoras (X):\")\n",
    "display(X.head())\n",
    "print(\"\\nVariable objetivo (y):\")\n",
    "display(y.head())\n"
   ]
  },
  {
   "cell_type": "markdown",
   "metadata": {
    "id": "8TpJdONMUGuE"
   },
   "source": [
    "b) (0.25 pts) Divide los datos en entrenamiento (70 %) y prueba (30 %)."
   ]
  },
  {
   "cell_type": "code",
   "execution_count": 30,
   "metadata": {
    "id": "d7q5Q7SNUP-G"
   },
   "outputs": [
    {
     "name": "stdout",
     "output_type": "stream",
     "text": [
      "Tamaño del conjunto de entrenamiento: 13997 filas\n",
      "Tamaño del conjunto de prueba: 6000 filas\n"
     ]
    }
   ],
   "source": [
    "X_train, X_test, y_train, y_test = train_test_split(\n",
    "    X, y, test_size=0.3, random_state=42\n",
    ")\n",
    "\n",
    "print(f\"Tamaño del conjunto de entrenamiento: {X_train.shape[0]} filas\")\n",
    "print(f\"Tamaño del conjunto de prueba: {X_test.shape[0]} filas\")\n"
   ]
  },
  {
   "cell_type": "markdown",
   "metadata": {
    "id": "yGs8HngOUR7K"
   },
   "source": [
    "c) (0.75 pts) Entrena un modelo de regresión lineal (LinearRegression) y calcula el R² y el MSE."
   ]
  },
  {
   "cell_type": "code",
   "execution_count": 31,
   "metadata": {
    "id": "nkH-KfUrUSv0"
   },
   "outputs": [
    {
     "name": "stdout",
     "output_type": "stream",
     "text": [
      "Resultado del modelo de Regresión Lineal\n",
      "R²: 0.870\n",
      "MSE: 6.032\n"
     ]
    }
   ],
   "source": [
    "lin_reg = LinearRegression()\n",
    "lin_reg.fit(X_train, y_train)\n",
    "\n",
    "# Predicciones\n",
    "y_pred_lin = lin_reg.predict(X_test)\n",
    "\n",
    "# Métricas de rendimiento\n",
    "r2_lin = r2_score(y_test, y_pred_lin)\n",
    "mse_lin = mean_squared_error(y_test, y_pred_lin)\n",
    "\n",
    "print(\"Resultado del modelo de Regresión Lineal\")\n",
    "print(f\"R²: {r2_lin:.3f}\")\n",
    "print(f\"MSE: {mse_lin:.3f}\")\n"
   ]
  },
  {
   "cell_type": "markdown",
   "metadata": {
    "id": "fozoFa3vUTah"
   },
   "source": [
    "d) (0.75 pts) Entrena un RandomForestRegressor con los mismos datos y compara resultados. ¿Cuál tiene mejor rendimiento?"
   ]
  },
  {
   "cell_type": "code",
   "execution_count": 33,
   "metadata": {
    "id": "0Me5YnFVUcPQ"
   },
   "outputs": [
    {
     "name": "stdout",
     "output_type": "stream",
     "text": [
      "Resultados del modelo de Random Forest\n",
      "R²: 0.911\n",
      "MSE: 4.128\n"
     ]
    }
   ],
   "source": [
    "rf_reg = RandomForestRegressor(random_state=42, n_estimators=100)\n",
    "rf_reg.fit(X_train, y_train)\n",
    "\n",
    "# Predicciones\n",
    "y_pred_rf = rf_reg.predict(X_test)\n",
    "\n",
    "# Métricas\n",
    "r2_rf = r2_score(y_test, y_pred_rf)\n",
    "mse_rf = mean_squared_error(y_test, y_pred_rf)\n",
    "\n",
    "print(\"Resultados del modelo de Random Forest\")\n",
    "print(f\"R²: {r2_rf:.3f}\")\n",
    "print(f\"MSE: {mse_rf:.3f}\")\n"
   ]
  },
  {
   "cell_type": "code",
   "execution_count": 38,
   "metadata": {},
   "outputs": [
    {
     "name": "stdout",
     "output_type": "stream",
     "text": [
      "\n",
      "Comparativa final de rendimiento:\n",
      "- Regresión Lineal--- R²: 0.870 ; MSE: 6.032\n",
      "- Random Forest------ R²: 0.911 ; MSE: 4.128\n"
     ]
    }
   ],
   "source": [
    "## COMPARACIÓN \n",
    "\n",
    "print(\"\\nComparativa final de rendimiento:\")\n",
    "print(f\"- Regresión Lineal--- R²: {r2_lin:.3f} ; MSE: {mse_lin:.3f}\")\n",
    "print(f\"- Random Forest------ R²: {r2_rf:.3f} ; MSE: {mse_rf:.3f}\")"
   ]
  },
  {
   "cell_type": "markdown",
   "metadata": {},
   "source": [
    "Para evaluar cual es mejor modelo, se han empleado las siguientes métricas:\n",
    "- R² (coeficiente de determinación): mide la proporción de varianza explicada por el modelo. Cuanto más cerca de 1 es mejor.\n",
    "- MSE: error medio cuadrático. También, cuanto menor sea mejor\n",
    "\n",
    "En este caso, observamos como el modelo de RandomForest es mejor que el modelo de Regresión Lineal porque el coeficiente de determinación es un poco mayor en el random forest (0,91 vs 0,87) y el MSE es menor en random forest tambien (4.128 vs 6.032)"
   ]
  },
  {
   "cell_type": "markdown",
   "metadata": {
    "id": "DIupTYHLUd4I"
   },
   "source": [
    "## Ejercicio 4 — Clasificación sencilla (2 puntos)\n",
    "\n",
    "Crea una nueva variable binaria que indique si el IMC está dentro del rango saludable.\n",
    "\n",
    "a) (0.25 pts) Crea una nueva columna bmiHealthy donde el valor sea 1 si bmi está entre 18.5 y 24.9, y 0 en caso contrario."
   ]
  },
  {
   "cell_type": "code",
   "execution_count": 43,
   "metadata": {
    "id": "c95n3xjoUhbk"
   },
   "outputs": [
    {
     "data": {
      "text/html": [
       "<div>\n",
       "<style scoped>\n",
       "    .dataframe tbody tr th:only-of-type {\n",
       "        vertical-align: middle;\n",
       "    }\n",
       "\n",
       "    .dataframe tbody tr th {\n",
       "        vertical-align: top;\n",
       "    }\n",
       "\n",
       "    .dataframe thead th {\n",
       "        text-align: right;\n",
       "    }\n",
       "</style>\n",
       "<table border=\"1\" class=\"dataframe\">\n",
       "  <thead>\n",
       "    <tr style=\"text-align: right;\">\n",
       "      <th></th>\n",
       "      <th>BMI</th>\n",
       "      <th>bmiHealthy</th>\n",
       "    </tr>\n",
       "  </thead>\n",
       "  <tbody>\n",
       "    <tr>\n",
       "      <th>0</th>\n",
       "      <td>24.87</td>\n",
       "      <td>1</td>\n",
       "    </tr>\n",
       "    <tr>\n",
       "      <th>1</th>\n",
       "      <td>23.48</td>\n",
       "      <td>1</td>\n",
       "    </tr>\n",
       "    <tr>\n",
       "      <th>2</th>\n",
       "      <td>21.15</td>\n",
       "      <td>1</td>\n",
       "    </tr>\n",
       "    <tr>\n",
       "      <th>3</th>\n",
       "      <td>32.45</td>\n",
       "      <td>0</td>\n",
       "    </tr>\n",
       "    <tr>\n",
       "      <th>4</th>\n",
       "      <td>14.83</td>\n",
       "      <td>0</td>\n",
       "    </tr>\n",
       "  </tbody>\n",
       "</table>\n",
       "</div>"
      ],
      "text/plain": [
       "     BMI  bmiHealthy\n",
       "0  24.87           1\n",
       "1  23.48           1\n",
       "2  21.15           1\n",
       "3  32.45           0\n",
       "4  14.83           0"
      ]
     },
     "metadata": {},
     "output_type": "display_data"
    },
    {
     "name": "stdout",
     "output_type": "stream",
     "text": [
      "bmiHealthy\n",
      "0    12390\n",
      "1     7607\n",
      "Name: count, dtype: int64\n"
     ]
    }
   ],
   "source": [
    "# Creación de la nueva variable: 1 si el IMC está en rango saludable, 0 en caso contrario\n",
    "lifeStyleData[\"bmiHealthy\"] = lifeStyleData[\"BMI\"].apply(lambda x: 1 if 18.5 <= x <= 24.9 else 0)\n",
    "\n",
    "# Comprobación mostrando las primeras filas (solo con las columnas bmi y bmiHealthy)\n",
    "display(lifeStyleData[[\"BMI\", \"bmiHealthy\"]].head())\n",
    "\n",
    "# Vemos cuántos hay de cada tipo (por saber) -> menos healthys que no healthy\n",
    "print(lifeStyleData[\"bmiHealthy\"].value_counts())\n"
   ]
  },
  {
   "cell_type": "markdown",
   "metadata": {
    "id": "F65J5M78Uhus"
   },
   "source": [
    "b) (0.75 pts) Entrena un modelo de regresión logística (LogisticRegression) para predecir bmiHealthy usando algunas variables de estilo de vida (por ejemplo sleepHours, activityLevel, calories)."
   ]
  },
  {
   "cell_type": "code",
   "execution_count": 59,
   "metadata": {
    "id": "L0bX3dbvUjpC"
   },
   "outputs": [
    {
     "data": {
      "text/html": [
       "<style>#sk-container-id-3 {color: black;}#sk-container-id-3 pre{padding: 0;}#sk-container-id-3 div.sk-toggleable {background-color: white;}#sk-container-id-3 label.sk-toggleable__label {cursor: pointer;display: block;width: 100%;margin-bottom: 0;padding: 0.3em;box-sizing: border-box;text-align: center;}#sk-container-id-3 label.sk-toggleable__label-arrow:before {content: \"▸\";float: left;margin-right: 0.25em;color: #696969;}#sk-container-id-3 label.sk-toggleable__label-arrow:hover:before {color: black;}#sk-container-id-3 div.sk-estimator:hover label.sk-toggleable__label-arrow:before {color: black;}#sk-container-id-3 div.sk-toggleable__content {max-height: 0;max-width: 0;overflow: hidden;text-align: left;background-color: #f0f8ff;}#sk-container-id-3 div.sk-toggleable__content pre {margin: 0.2em;color: black;border-radius: 0.25em;background-color: #f0f8ff;}#sk-container-id-3 input.sk-toggleable__control:checked~div.sk-toggleable__content {max-height: 200px;max-width: 100%;overflow: auto;}#sk-container-id-3 input.sk-toggleable__control:checked~label.sk-toggleable__label-arrow:before {content: \"▾\";}#sk-container-id-3 div.sk-estimator input.sk-toggleable__control:checked~label.sk-toggleable__label {background-color: #d4ebff;}#sk-container-id-3 div.sk-label input.sk-toggleable__control:checked~label.sk-toggleable__label {background-color: #d4ebff;}#sk-container-id-3 input.sk-hidden--visually {border: 0;clip: rect(1px 1px 1px 1px);clip: rect(1px, 1px, 1px, 1px);height: 1px;margin: -1px;overflow: hidden;padding: 0;position: absolute;width: 1px;}#sk-container-id-3 div.sk-estimator {font-family: monospace;background-color: #f0f8ff;border: 1px dotted black;border-radius: 0.25em;box-sizing: border-box;margin-bottom: 0.5em;}#sk-container-id-3 div.sk-estimator:hover {background-color: #d4ebff;}#sk-container-id-3 div.sk-parallel-item::after {content: \"\";width: 100%;border-bottom: 1px solid gray;flex-grow: 1;}#sk-container-id-3 div.sk-label:hover label.sk-toggleable__label {background-color: #d4ebff;}#sk-container-id-3 div.sk-serial::before {content: \"\";position: absolute;border-left: 1px solid gray;box-sizing: border-box;top: 0;bottom: 0;left: 50%;z-index: 0;}#sk-container-id-3 div.sk-serial {display: flex;flex-direction: column;align-items: center;background-color: white;padding-right: 0.2em;padding-left: 0.2em;position: relative;}#sk-container-id-3 div.sk-item {position: relative;z-index: 1;}#sk-container-id-3 div.sk-parallel {display: flex;align-items: stretch;justify-content: center;background-color: white;position: relative;}#sk-container-id-3 div.sk-item::before, #sk-container-id-3 div.sk-parallel-item::before {content: \"\";position: absolute;border-left: 1px solid gray;box-sizing: border-box;top: 0;bottom: 0;left: 50%;z-index: -1;}#sk-container-id-3 div.sk-parallel-item {display: flex;flex-direction: column;z-index: 1;position: relative;background-color: white;}#sk-container-id-3 div.sk-parallel-item:first-child::after {align-self: flex-end;width: 50%;}#sk-container-id-3 div.sk-parallel-item:last-child::after {align-self: flex-start;width: 50%;}#sk-container-id-3 div.sk-parallel-item:only-child::after {width: 0;}#sk-container-id-3 div.sk-dashed-wrapped {border: 1px dashed gray;margin: 0 0.4em 0.5em 0.4em;box-sizing: border-box;padding-bottom: 0.4em;background-color: white;}#sk-container-id-3 div.sk-label label {font-family: monospace;font-weight: bold;display: inline-block;line-height: 1.2em;}#sk-container-id-3 div.sk-label-container {text-align: center;}#sk-container-id-3 div.sk-container {/* jupyter's `normalize.less` sets `[hidden] { display: none; }` but bootstrap.min.css set `[hidden] { display: none !important; }` so we also need the `!important` here to be able to override the default hidden behavior on the sphinx rendered scikit-learn.org. See: https://github.com/scikit-learn/scikit-learn/issues/21755 */display: inline-block !important;position: relative;}#sk-container-id-3 div.sk-text-repr-fallback {display: none;}</style><div id=\"sk-container-id-3\" class=\"sk-top-container\"><div class=\"sk-text-repr-fallback\"><pre>LogisticRegression(max_iter=1000)</pre><b>In a Jupyter environment, please rerun this cell to show the HTML representation or trust the notebook. <br />On GitHub, the HTML representation is unable to render, please try loading this page with nbviewer.org.</b></div><div class=\"sk-container\" hidden><div class=\"sk-item\"><div class=\"sk-estimator sk-toggleable\"><input class=\"sk-toggleable__control sk-hidden--visually\" id=\"sk-estimator-id-3\" type=\"checkbox\" checked><label for=\"sk-estimator-id-3\" class=\"sk-toggleable__label sk-toggleable__label-arrow\">LogisticRegression</label><div class=\"sk-toggleable__content\"><pre>LogisticRegression(max_iter=1000)</pre></div></div></div></div></div>"
      ],
      "text/plain": [
       "LogisticRegression(max_iter=1000)"
      ]
     },
     "execution_count": 59,
     "metadata": {},
     "output_type": "execute_result"
    }
   ],
   "source": [
    "# Usamos las variables anteriores que identificamos con mayor correlación con el BMI y he añadido alguna más por ver el efecto\n",
    "\n",
    "# Seleccionamos variables predictoras\n",
    "predictors = [\"Calories\", \"Fat_Percentage\", \"protein_per_kg\", \"Burns Calories (per 30 min)\", \"Workout_Frequency (days/week)\",\"Physical exercise\"]\n",
    "X = lifeStyleData[predictors]\n",
    "y = lifeStyleData[\"bmiHealthy\"]\n",
    "\n",
    "# Dividimos los datos (70% train / 30% test)\n",
    "X_train, X_test, y_train, y_test = train_test_split(\n",
    "    X, y, test_size=0.3, random_state=42\n",
    ")\n",
    "\n",
    "# Creamos y entrenamos el modelo\n",
    "log_reg = LogisticRegression(max_iter=1000)\n",
    "log_reg.fit(X_train, y_train)\n"
   ]
  },
  {
   "cell_type": "markdown",
   "metadata": {
    "id": "t2zVo1tRUj9o"
   },
   "source": [
    "c) (0.25 pts) Calcula la exactitud (accuracy) del modelo y muestra la matriz de confusión.\n"
   ]
  },
  {
   "cell_type": "code",
   "execution_count": 60,
   "metadata": {
    "id": "D3q0Hzu_UmT5"
   },
   "outputs": [
    {
     "name": "stdout",
     "output_type": "stream",
     "text": [
      "Accuracy del modelo: 0.625\n"
     ]
    },
    {
     "data": {
      "image/png": "[encoded data removed]",
      "text/plain": [
       "<Figure size 432x288 with 2 Axes>"
      ]
     },
     "metadata": {
      "needs_background": "light"
     },
     "output_type": "display_data"
    }
   ],
   "source": [
    "y_pred = log_reg.predict(X_test)\n",
    "\n",
    "# Métricas\n",
    "accuracy = accuracy_score(y_test, y_pred)\n",
    "cm = confusion_matrix(y_test, y_pred)\n",
    "\n",
    "print(f\"Accuracy del modelo: {accuracy:.3f}\")\n",
    "\n",
    "# Mostrar matriz de confusión\n",
    "disp = ConfusionMatrixDisplay(confusion_matrix=cm, display_labels=[\"No saludable\", \"Saludable\"])\n",
    "disp.plot(cmap=\"Greens\")\n",
    "plt.title(\"Matriz de confusión\")\n",
    "plt.show()"
   ]
  },
  {
   "cell_type": "markdown",
   "metadata": {
    "id": "H8MWudWBUngY"
   },
   "source": [
    "d) (0.75 pts) Explica qué variable parece influir más según el modelo."
   ]
  },
  {
   "cell_type": "code",
   "execution_count": 61,
   "metadata": {
    "id": "qKdONBvPU1Pn"
   },
   "outputs": [
    {
     "name": "stdout",
     "output_type": "stream",
     "text": [
      "Importancia de las variables según el modelo:\n"
     ]
    },
    {
     "data": {
      "text/html": [
       "<div>\n",
       "<style scoped>\n",
       "    .dataframe tbody tr th:only-of-type {\n",
       "        vertical-align: middle;\n",
       "    }\n",
       "\n",
       "    .dataframe tbody tr th {\n",
       "        vertical-align: top;\n",
       "    }\n",
       "\n",
       "    .dataframe thead th {\n",
       "        text-align: right;\n",
       "    }\n",
       "</style>\n",
       "<table border=\"1\" class=\"dataframe\">\n",
       "  <thead>\n",
       "    <tr style=\"text-align: right;\">\n",
       "      <th></th>\n",
       "      <th>Variable</th>\n",
       "      <th>Coeficiente</th>\n",
       "    </tr>\n",
       "  </thead>\n",
       "  <tbody>\n",
       "    <tr>\n",
       "      <th>4</th>\n",
       "      <td>Workout_Frequency (days/week)</td>\n",
       "      <td>0.332335</td>\n",
       "    </tr>\n",
       "    <tr>\n",
       "      <th>5</th>\n",
       "      <td>Physical exercise</td>\n",
       "      <td>0.141208</td>\n",
       "    </tr>\n",
       "    <tr>\n",
       "      <th>3</th>\n",
       "      <td>Burns Calories (per 30 min)</td>\n",
       "      <td>0.009935</td>\n",
       "    </tr>\n",
       "    <tr>\n",
       "      <th>0</th>\n",
       "      <td>Calories</td>\n",
       "      <td>-0.001096</td>\n",
       "    </tr>\n",
       "    <tr>\n",
       "      <th>1</th>\n",
       "      <td>Fat_Percentage</td>\n",
       "      <td>-0.086081</td>\n",
       "    </tr>\n",
       "    <tr>\n",
       "      <th>2</th>\n",
       "      <td>protein_per_kg</td>\n",
       "      <td>-0.590635</td>\n",
       "    </tr>\n",
       "  </tbody>\n",
       "</table>\n",
       "</div>"
      ],
      "text/plain": [
       "                        Variable  Coeficiente\n",
       "4  Workout_Frequency (days/week)     0.332335\n",
       "5              Physical exercise     0.141208\n",
       "3    Burns Calories (per 30 min)     0.009935\n",
       "0                       Calories    -0.001096\n",
       "1                 Fat_Percentage    -0.086081\n",
       "2                 protein_per_kg    -0.590635"
      ]
     },
     "metadata": {},
     "output_type": "display_data"
    }
   ],
   "source": [
    "# Coeficientes del modelo\n",
    "importance = pd.DataFrame({\n",
    "    \"Variable\": predictors,\n",
    "    \"Coeficiente\": log_reg.coef_[0]\n",
    "}).sort_values(by=\"Coeficiente\", ascending=False)\n",
    "\n",
    "print(\"Importancia de las variables según el modelo:\")\n",
    "display(importance)"
   ]
  },
  {
   "cell_type": "code",
   "execution_count": 63,
   "metadata": {},
   "outputs": [
    {
     "data": {
      "image/png": "[encoded data removed]",
      "text/plain": [
       "<Figure size 720x432 with 1 Axes>"
      ]
     },
     "metadata": {
      "needs_background": "light"
     },
     "output_type": "display_data"
    }
   ],
   "source": [
    "plt.figure(figsize=(10, 6))\n",
    "plt.barh(importance[\"Variable\"], importance[\"Coeficiente\"], color='skyblue')\n",
    "plt.xlabel(\"Coeficiente\")\n",
    "plt.ylabel(\"Variable\")\n",
    "plt.title(\"Importancia de las variables según el modelo- Logistic Regression\")\n",
    "plt.gca().invert_yaxis()  \n",
    "plt.grid(axis='x', linestyle='--', alpha=0.7)\n",
    "plt.show()"
   ]
  },
  {
   "cell_type": "markdown",
   "metadata": {},
   "source": [
    "Según el gráfico, la variable que más influye en el modelo de Regresión Logística es “Workout_Frequency (days/week)”, ya que tiene el coeficiente más alto y positivo.\n",
    "\n",
    "Esto significa que, si aumentamos la frecuencia semanal de entrenamiento incrementa la probabilidad de pertenecer a la clase positiva (por ejemplo, tener buena condición física o alcanzar el objetivo del modelo).\n",
    "\n",
    "Por otro lado, la variable “protein_per_kg” también muestra una fuerte influencia, pero en sentido negativo, lo que sugiere que mayores valores de proteína por kilogramo están asociados con menor probabilidad de la clase positiva según este modelo, es decir, de estar saludable. "
   ]
  },
  {
   "cell_type": "markdown",
   "metadata": {
    "id": "dnuHNl1HU1sV"
   },
   "source": [
    "## Ejercicio 5 — Conclusión (1 punto)\n",
    "\n",
    "En un máximo de 300 palabras, resume:\n",
    "\n",
    "*   Qué hábitos parecen tener mayor relación con el estado de salud.\n",
    "\n",
    "*   Qué modelo fue más eficaz y por qué.\n",
    "\n",
    "*   Qué podrías mejorar si tuvieras más tiempo o datos.\n",
    "\n"
   ]
  },
  {
   "cell_type": "markdown",
   "metadata": {},
   "source": [
    "A partir del análisis realizado, los hábitos con mayor relación con el estado de salud son la frecuencia de entrenamiento semanal y el nivel de actividad física. Estas variables presentan los coeficientes más altos y positivos en el modelo de regresión logística, lo que indica que una mayor frecuencia de ejercicio y una práctica constante de actividad física se asocian con un mejor estado de salud. En cambio, el consumo de proteínas por kilogramo (me lo imagino) y el porcentaje de grasa corporal muestran una relación negativa, lo que sugiere que niveles más altos de grasa o una ingesta proteica desequilibrada podrían relacionarse con un peor estado físico o una vida menos saludable.\n",
    "\n",
    "En cuanto al modelo más eficaz, el Random Forest superó al modelo de Regresión Lineal al obtener un R² de 0.911 frente a 0.870 y un MSE de 4.128 frente a 6.032. Esto significa que el Random Forest explica mejor la variabilidad del estado de salud y comete menos error medio cuadrático. No me ha dado tiempo a verificar cuáles son estos valores para el modelo de Regresión Logística.\n",
    "\n",
    "Si se pudiese tener más tiempo, la idea seria comprobar si otras variables son significativas para el modelo para poder explicar con mayor certeza nuestra variable objetivo."
   ]
  }
 ],
 "metadata": {
  "colab": {
   "provenance": []
  },
  "kernelspec": {
   "display_name": "Python 3",
   "language": "python",
   "name": "python3"
  },
  "language_info": {
   "codemirror_mode": {
    "name": "ipython",
    "version": 3
   },
   "file_extension": ".py",
   "mimetype": "text/x-python",
   "name": "python",
   "nbconvert_exporter": "python",
   "pygments_lexer": "ipython3",
   "version": "3.8.3"
  }
 },
 "nbformat": 4,
 "nbformat_minor": 1
}
